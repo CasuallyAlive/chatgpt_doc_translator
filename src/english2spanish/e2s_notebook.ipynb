{
 "cells": [
  {
   "cell_type": "markdown",
   "metadata": {},
   "source": [
    "# Notebook For Experimentation With ChatGPT Translation Features"
   ]
  },
  {
   "cell_type": "code",
   "execution_count": 67,
   "metadata": {},
   "outputs": [
    {
     "data": {
      "text/plain": [
       "True"
      ]
     },
     "execution_count": 67,
     "metadata": {},
     "output_type": "execute_result"
    }
   ],
   "source": [
    "import os\n",
    "import threading\n",
    "import tiktoken as tt\n",
    "from openai import OpenAI\n",
    "from pathlib import Path\n",
    "from dotenv import load_dotenv\n",
    "\n",
    "load_dotenv(\"./.env\")  # take environment variables from .env."
   ]
  },
  {
   "cell_type": "code",
   "execution_count": 79,
   "metadata": {},
   "outputs": [],
   "source": [
    "model_name=\"gpt-3.5-turbo-0125\""
   ]
  },
  {
   "cell_type": "code",
   "execution_count": 11,
   "metadata": {},
   "outputs": [
    {
     "name": "stdout",
     "output_type": "stream",
     "text": [
      "This is a test.\n"
     ]
    }
   ],
   "source": [
    "client = OpenAI(\n",
    "    # This is the default and can be omitted\n",
    "    api_key=os.environ.get(\"OPENAI_API_KEY\"),\n",
    ")\n",
    "\n",
    "chat_completion = client.chat.completions.create(\n",
    "    messages=[\n",
    "        {\n",
    "            \"role\": \"user\",\n",
    "            \"content\": \"Say this is a test\",\n",
    "        }\n",
    "    ],\n",
    "    model=model_name,\n",
    ")\n",
    "print(chat_completion.choices[0].message.content)"
   ]
  },
  {
   "cell_type": "markdown",
   "metadata": {},
   "source": [
    "Upload File"
   ]
  },
  {
   "cell_type": "code",
   "execution_count": 12,
   "metadata": {},
   "outputs": [],
   "source": [
    "files_dir = \"./files/\"\n",
    "trans_files_dir = \"./translated_files/\""
   ]
  },
  {
   "cell_type": "code",
   "execution_count": 15,
   "metadata": {},
   "outputs": [],
   "source": [
    "# Upload file to assistant\n",
    "file = client.files.create(\n",
    "    file=Path(f\"{files_dir}mobile_home_utah_law.pdf\"),\n",
    "    purpose=\"assistants\",\n",
    ")"
   ]
  },
  {
   "cell_type": "markdown",
   "metadata": {},
   "source": [
    "Retrieve Assistant"
   ]
  },
  {
   "cell_type": "code",
   "execution_count": 18,
   "metadata": {},
   "outputs": [],
   "source": [
    "# Retrieve e2a assistant to translate document\n",
    "assistant = client.beta.assistants.update(\n",
    "  instructions=\"You are an English to Spanish translation bot. Draft me a similar document that translates the English text to Spanish.\",\n",
    "  model=model_name,\n",
    "  tools=[{\"type\": \"retrieval\"}],\n",
    "  file_ids=[file.id]\n",
    ")"
   ]
  },
  {
   "cell_type": "code",
   "execution_count": 25,
   "metadata": {},
   "outputs": [],
   "source": [
    "# Create a thread\n",
    "my_thread = client.beta.threads.create()"
   ]
  },
  {
   "cell_type": "code",
   "execution_count": 26,
   "metadata": {},
   "outputs": [],
   "source": [
    "# Get translation\n",
    "message = client.beta.threads.messages.create(\n",
    "  thread_id=my_thread.id,\n",
    "  role=\"user\",\n",
    "  content=\"Translate this document to Spanish.\",\n",
    "  file_ids=[file.id]\n",
    ")"
   ]
  },
  {
   "cell_type": "code",
   "execution_count": 27,
   "metadata": {},
   "outputs": [],
   "source": [
    "# Run Assistant\n",
    "my_run = client.beta.threads.runs.create(\n",
    "  thread_id=my_thread.id,\n",
    "  assistant_id=assistant.id,\n",
    "  instructions=\"Please use the same formatting as in the original document.\"\n",
    ")"
   ]
  },
  {
   "cell_type": "code",
   "execution_count": 41,
   "metadata": {},
   "outputs": [
    {
     "name": "stdout",
     "output_type": "stream",
     "text": [
      "queued\n"
     ]
    }
   ],
   "source": [
    "print(my_run.status)"
   ]
  },
  {
   "cell_type": "code",
   "execution_count": 42,
   "metadata": {},
   "outputs": [
    {
     "name": "stdout",
     "output_type": "stream",
     "text": [
      "\n",
      "\n",
      "------------------------------------------------------------ \n",
      "\n",
      "User: Translate this document to Spanish.\n",
      "Assistant: Capítulo 16\n",
      "Ley de Residencia en Parques de Casas Móviles de Utah\n",
      "\n",
      "57-16-1 Título corto.\n",
      "Esta ley será conocida y podrá ser citada como la \"Ley de Residencia en Parques de Casas Móviles\".\n",
      "\n",
      "Promulgada por la Sesión General de 1981, Capítulo 178\n",
      "\n",
      "57-16-2 Propósito del capítulo.\n",
      "El derecho fundamental a poseer y proteger la tierra y establecer condiciones para su uso por otros exige que al propietario de un parque de casas móviles se le otorguen remedios rápidos y adecuados contra aquellos que abusan de los términos de un arrendamiento. El alto costo de mover casas móviles, los requisitos de los parques de casas móviles relacionados con su instalación y el costo de ajardinar y preparar los terrenos requieren que los propietarios de casas móviles ocupadas dentro de parques de casas móviles estén protegidos contra desalojos reales o constructivos. El propósito de este capítulo es proporcionar protección tanto para los propietarios de casas móviles ubicadas en parques de casas móviles como para los propietarios de parques de casas móviles.\n",
      "\n",
      "Promulgada por la Sesión General de 1981, Capítulo 178\n",
      "\n",
      "57-16-3 Definiciones.\n",
      "Según se utiliza en este capítulo:\n",
      "(1) \"Comodidades\" significa las siguientes instalaciones físicas recreativas o sociales ubicadas en un parque de casas móviles:\n",
      "(a) un club;\n",
      "(b) un parque;\n",
      "(c) un área de juegos;\n",
      "(d) una piscina;\n",
      "(e) un jacuzzi;\n",
      "(f) una cancha de tenis; o\n",
      "(g) una cancha de baloncesto.\n",
      "(2) \"Cambio de uso\" significa un cambio del uso de un parque de casas móviles o cualquier parte de él para un propósito que no sea el alquiler de espacios para casas móviles.\n",
      "(3) \"Tarifas\" significa otros cargos incidentales al arrendamiento de un residente, incluidos pero no limitados a tarifas por demora, cargos por mascotas, cargos por almacenamiento de vehículos recreativos, cargos por el uso de las instalaciones del parque y depósitos de seguridad.\n",
      "(4) \"Casa móvil\" significa una estructura transportable en una o varias secciones con los sistemas de fontanería, calefacción y electricidad contenidos dentro de la unidad que, al ser erigida en un sitio, puede utilizarse con o sin una base permanente como vivienda familiar.\n",
      "(5) \"Parque de casas móviles\" significa un terreno en el que se alquilan o se ofrecen en alquiler dos o más espacios para casas móviles para fines residenciales.\n",
      "(6) \"Espacio para casa móvil\" significa un área específica de terreno dentro de un parque de casas móviles diseñada para alojar una casa móvil.\n",
      "(7) \"Servicio público\" significa una entidad que proporciona servicios eléctricos o de gas, incluyendo un:\n",
      "(a) servicio público según se define en el Título 54, Capítulo 2 Disposiciones Generales; o\n",
      "(b) municipio según se define en el Título 10, Código Municipal de Utah.\n",
      "\n",
      "Utah Code\n",
      "\n",
      "(8) \"Alquiler\" significa los cargos pagados por el privilegio de ocupar un espacio para casa móvil y puede incluir cargos por servicios y tarifas.\n",
      "(9) \"Residente\" significa una persona que arrienda o alquila un espacio en un parque de casas móviles.\n",
      "(10) \"Cargos por servicios\" significa cargos separados pagados por el uso de mejoras de servicios eléctricos y de gas que existen en un espacio para casa móvil o por la eliminación de basura, aguas residuales y agua, o cualquier combinación de los anteriores.\n",
      "(11) \"Vencimiento de la discusión de arreglo\" significa:\n",
      "(a) el residente no ha presentado un aviso escrito de disputa dentro del período especificado en la Subsección 57-16-4.1(2); o\n",
      "(b) el residente y la administración del parque de casas móviles se han reunido bajo la Subsección 57-16-4.1(3) pero no lograron resolver la disputa en su reunión.\n",
      "\n",
      "Modificado por la Sesión General de 2020, Capítulo 245\n",
      "\n",
      "57-16-4 Terminación del arrendamiento o contrato de alquiler: contenidos requeridos del arrendamiento: aumentos en alquileres o tarifas: divulgaciones requeridas: venta de hogares: aviso sobre la reducción o restricción planificada de comodidades.\n",
      "(1) Un parque de casas móviles o sus agentes no pueden terminar un arrendamiento o contrato de alquiler por ningún motivo que no sea el especificado en este capítulo.\n",
      "(2)\n",
      "(a) Un parque de casas móviles y un residente de un parque de casas móviles que celebren un acuerdo para el arriendo de un espacio en un parque de casas móviles deberán:\n",
      "(i) celebrar el acuerdo de arrendamiento por escrito; y\n",
      "(ii) firmar el acuerdo de arrendamiento.\n",
      "(b) Un parque de casas móviles deberá, para cada arrendamiento celebrado por el parque de casas móviles con un residente de un parque de casas móviles:\n",
      "(i) mantener una copia escrita del arrendamiento; y\n",
      "(ii) poner a disposición del residente de un parque de casas móviles que sea parte en el arrendamiento:\n",
      "(A) no más de siete días naturales después del día en que el parque de casas móviles recibe una solicitud escrita del residente de un parque de casas móviles; y\n",
      "(B) excepto por gastos razonables de reproducción, de forma gratuita para el residente de un parque de casas móviles.\n",
      "(3) Cada arrendamiento deberá contener al menos la siguiente información:\n",
      "(a) el nombre y dirección del propietario del parque de casas móviles y de las personas autorizadas a actuar en nombre del propietario ante quienes podrá notificarse y servirse de la demanda;\n",
      "(b) el tipo de cesión del arrendamiento, ya sea a plazo o periódico, y en los arrendamientos celebrados el 6 de mayo de 2002 o después de esa fecha, una divulgación destacada describiendo la protección de la que goza un residente en virtud de la Subsección (1) contra la terminación unilateral del arrendamiento por parte del parque de casas móviles, salvo por las causas descritas en la Sección 57-16-5;\n",
      "(c)\n",
      "(i) una divulgación completa de todo el alquiler, cargos de servicios y otros cargos que se cobran en una base periódica;\n",
      "(ii) una divulgación completa de la infraestructura de servicios públicos propiedad del propietario del parque de casas móviles o del agente del propietario que se mantiene a través de cargos de servicios y tarifas cobrados por el propietario del parque de casas móviles o el agente del propietario y el método utilizado para calcular los cargos y tarifas de servicios asociados; y\n",
      "(iii) una divulgación completa de todos los costos que cobra el parque de casas móviles por servicios públicos y el método utilizado para calcular la factura de servicios públicos de cada residente individual, incluidos los siguientes:\n",
      "(A) los costos asignados de una factura medida en conjunto;\n",
      "(B) los costos medidos por separado para el uso individual;\n",
      "(C) los costos que reflejan la infraestructura de servicios públicos propiedad del propietario del parque de casas móviles o del agente del propietario; y\n",
      "(D) cualquier otro costo relacionado con los servicios públicos;\n",
      "(d) la fecha o fechas en las que deben pagarse el alquiler, las tarifas y los cargos de servicios; y\n",
      "(e) todas las reglas que se refieren al parque de casas móviles que, si se incumplen, pueden constituir motivos de desalojo, incluida en los arrendamientos celebrados el 6 de mayo de 2002 o después de esa fecha, una divulgación destacada con respecto a:\n",
      "(i) las causas por las cuales el parque de casas móviles puede terminar el arrendamiento, tal como se describe en la Sección 57-16-5; y\n",
      "(ii) los derechos del residente a:\n",
      "(A) terminar el arrendamiento en cualquier momento sin motivo previo previa notificación especificada en el arrendamiento del residente; y\n",
      "(B) anunciar y vender la casa móvil del residente.\n",
      "(4)\n",
      "(a) Los aumentos en los alquileres o tarifas para arrendamientos periódicos no serán exigibles hasta 60 días después de que se envíe un aviso del aumento al residente.\n",
      "(b) Si los cargos de servicios no están incluidos en el alquiler, el parque de casas móviles podrá:\n",
      "(i) aumentar los cargos de servicios durante el período del arrendamiento después de notificar al residente; y\n",
      "(ii) trasladar aumentos o reducciones en las tarifas de electricidad al residente.\n",
      "(c) Los ingresos anuales del parque por cargos de servicios no podrán superar el costo real para el parque de casas móviles de proporcionar los servicios anualmente.\n",
      "(d) Al determinar los costos de los servicios, el parque de casas móviles podrá incluir los costos de mantenimiento relacionados con los servicios públicos que formen parte de los cargos de servicios.\n",
      "(e) El parque de casas móviles no podrá alterar la fecha en la que se deben pagar el alquiler, las tarifas y los cargos de servicios, a menos que el parque de casas móviles proporcione un aviso escrito de 60 días al residente antes de cambiar la fecha.\n",
      "(5)\n",
      "(a) A partir del 1 de junio de 2021, un parque de casas móviles deberá proporcionar una divulgación destacada describiendo cómo el parque de casas móviles calculó los cargos de los residentes por servicios públicos durante el período de facturación de los doce meses anteriores:\n",
      "(i)\n",
      "(A) a cada residente; y\n",
      "(B) al menos una vez cada año calendario; o\n",
      "(ii)\n",
      "(A) en un lugar destacado en las instalaciones del parque de casas móviles; y\n",
      "(B) que se actualice cuando ya no sea precisa y al menos una vez cada año calendario.\n",
      "(b) La divulgación descrita en la Subsección (5)(a) deberá demostrar cómo los cargos por servicios públicos se relacionan con:\n",
      "(i) la factura de medición maestra del parque de casas móviles;\n",
      "(ii) la infraestructura de servicios públicos propiedad del propietario del parque de casas móviles o del agente del propietario; y\n",
      "(iii) las tarifas y condiciones de servicio aprobadas del servicio público correspondiente.\n",
      "(c) Antes del 1 de junio de 2021, previa solicitud escrita de un residente, un parque de casas móviles deberá revelar la información descrita en la Subsección (5)(a) para cualquier período de facturación posterior al 12 de mayo de 2020.\n",
      "(6) \n",
      "\n",
      "Resto del texto no está disponible para traducción.\n"
     ]
    }
   ],
   "source": [
    "all_messages = None\n",
    "while my_run.status in [\"queued\", \"in_progress\"]:\n",
    "    keep_retrieving_run = client.beta.threads.runs.retrieve(\n",
    "        thread_id=my_thread.id,\n",
    "        run_id=my_run.id\n",
    "    )\n",
    "    if keep_retrieving_run.status == \"completed\":\n",
    "        print(\"\\n\")\n",
    "\n",
    "        # Retrieve the Messages added by the Assistant to the Thread\n",
    "        all_messages = client.beta.threads.messages.list(\n",
    "            thread_id=my_thread.id\n",
    "        )\n",
    "\n",
    "        print(\"------------------------------------------------------------ \\n\")\n",
    "\n",
    "        print(f\"User: {message.content[0].text.value}\")\n",
    "        print(f\"Assistant: {all_messages.data[0].content[0].text.value}\")\n",
    "\n",
    "        break\n",
    "    elif keep_retrieving_run.status == \"queued\" or keep_retrieving_run.status == \"in_progress\":\n",
    "        pass\n",
    "    else:\n",
    "        print(f\"Run status: {keep_retrieving_run.status}\")\n",
    "        break\n"
   ]
  },
  {
   "cell_type": "code",
   "execution_count": 78,
   "metadata": {},
   "outputs": [
    {
     "name": "stdout",
     "output_type": "stream",
     "text": [
      "Usage(completion_tokens=2978, prompt_tokens=37817, total_tokens=40795)\n",
      "None\n",
      "2697\n"
     ]
    }
   ],
   "source": [
    "m_l = client.beta.threads.messages.list(\n",
    "            thread_id=my_thread.id,\n",
    "            order=\"asc\"\n",
    "        )\n",
    "# print(m_l.data[4].content[0].text.value)\n",
    "\n",
    "print(keep_retrieving_run.usage)\n",
    "enc = tt.encoding_for_model(model_name)\n",
    "\n",
    "print(len(enc.encode(m_l.data[5].content[0].text.value)))"
   ]
  },
  {
   "cell_type": "code",
   "execution_count": null,
   "metadata": {},
   "outputs": [],
   "source": []
  }
 ],
 "metadata": {
  "kernelspec": {
   "display_name": "Python 3",
   "language": "python",
   "name": "python3"
  },
  "language_info": {
   "codemirror_mode": {
    "name": "ipython",
    "version": 3
   },
   "file_extension": ".py",
   "mimetype": "text/x-python",
   "name": "python",
   "nbconvert_exporter": "python",
   "pygments_lexer": "ipython3",
   "version": "3.10.12"
  }
 },
 "nbformat": 4,
 "nbformat_minor": 2
}
